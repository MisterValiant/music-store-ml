{
 "cells": [
  {
   "cell_type": "code",
   "execution_count": 1,
   "id": "755fd845",
   "metadata": {},
   "outputs": [
    {
     "data": {
      "text/plain": [
       "1.0"
      ]
     },
     "execution_count": 1,
     "metadata": {},
     "output_type": "execute_result"
    }
   ],
   "source": [
    "import pandas as pd\n",
    "from sklearn.tree import DecisionTreeClassifier\n",
    "from sklearn.model_selection import train_test_split\n",
    "from sklearn.metrics import accuracy_score\n",
    "\n",
    "music_data=pd.read_csv('music.csv')\n",
    "X=music_data.drop(columns=['genre'])\n",
    "Y=music_data['genre']\n",
    "\n",
    "# Accuracy\n",
    "x_train, x_test, y_train, y_test=train_test_split(X, Y, test_size=.2)\n",
    "model=DecisionTreeClassifier()\n",
    "model.fit(x_train, y_train)\n",
    "predictions=model.predict(x_test)\n",
    "\n",
    "score=accuracy_score(y_test, predictions)\n",
    "score\n",
    "\n",
    "# Predictions\n",
    "# model=DecisionTreeClassifier()\n",
    "# # model.fit(X, Y)\n",
    "# # predictions=model.predict([ [21, 1], [22, 0] ])"
   ]
  }
 ],
 "metadata": {
  "kernelspec": {
   "display_name": "Python 3 (ipykernel)",
   "language": "python",
   "name": "python3"
  },
  "language_info": {
   "codemirror_mode": {
    "name": "ipython",
    "version": 3
   },
   "file_extension": ".py",
   "mimetype": "text/x-python",
   "name": "python",
   "nbconvert_exporter": "python",
   "pygments_lexer": "ipython3",
   "version": "3.9.12"
  }
 },
 "nbformat": 4,
 "nbformat_minor": 5
}
